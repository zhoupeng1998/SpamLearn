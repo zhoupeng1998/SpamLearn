{
 "cells": [
  {
   "cell_type": "code",
   "execution_count": 70,
   "metadata": {},
   "outputs": [],
   "source": [
    "import numpy as np\n",
    "import matplotlib.pyplot as plt # use matplotlib for plotting with inline plots %matplotlib inline\n",
    "import warnings\n",
    "warnings.filterwarnings('ignore') # for deprecated matplotlib functions\n",
    "from sklearn.preprocessing import StandardScaler\n",
    "from sklearn.model_selection import train_test_split\n",
    "from sklearn import tree\n",
    "from sklearn.tree import DecisionTreeClassifier, export_graphviz\n",
    "from sklearn.externals.six import StringIO\n",
    "from sklearn.metrics import roc_curve, auc\n",
    "import graphviz \n",
    "from graphviz import Digraph\n",
    "import os"
   ]
  },
  {
   "cell_type": "code",
   "execution_count": 71,
   "metadata": {},
   "outputs": [
    {
     "name": "stdout",
     "output_type": "stream",
     "text": [
      "['word_freq_make', 'word_freq_address', 'word_freq_all', 'word_freq_3d', 'word_freq_our', 'word_freq_over', 'word_freq_remove', 'word_freq_internet', 'word_freq_order', 'word_freq_mail', 'word_freq_receive', 'word_freq_will', 'word_freq_people', 'word_freq_report', 'word_freq_addresses', 'word_freq_free', 'word_freq_business', 'word_freq_email', 'word_freq_you', 'word_freq_credit', 'word_freq_your', 'word_freq_font', 'word_freq_000', 'word_freq_money', 'word_freq_hp', 'word_freq_hpl', 'word_freq_george', 'word_freq_650', 'word_freq_lab', 'word_freq_labs', 'word_freq_telnet', 'word_freq_857', 'word_freq_data', 'word_freq_415', 'word_freq_85', 'word_freq_technology', 'word_freq_1999', 'word_freq_parts', 'word_freq_pm', 'word_freq_direct', 'word_freq_cs', 'word_freq_meeting', 'word_freq_original', 'word_freq_project', 'word_freq_re', 'word_freq_edu', 'word_freq_table', 'word_freq_conference', 'char_freq_;', 'char_freq_(', 'char_freq_[', 'char_freq_!', 'char_freq_$', 'char_freq_#', 'capital_run_length_average', 'capital_run_length_longest', 'capital_run_length_total']\n"
     ]
    }
   ],
   "source": [
    "# load data\n",
    "spamdata = np.genfromtxt(\"/Users/zhangjiahang/Desktop/CS 178/Final project/spambase.txt\",delimiter=\",\")\n",
    "X, Y = spamdata[:,0:57], spamdata[:,-1]\n",
    "scaler = StandardScaler()\n",
    "X = scaler.fit_transform(X)\n",
    "\n",
    "Xtr, Xte, Ytr, Yte = train_test_split(X, Y, test_size = 0.25, shuffle = True)\n",
    "\n",
    "features = []\n",
    "with open (\"/Users/zhangjiahang/Desktop/CS 178/Final project/spambasenames.txt\", encoding = \"utf-8\" ) as line_list:\n",
    "    for line in line_list:\n",
    "        feature = line.split(\":\")\n",
    "        features.append(feature[0])\n",
    "print(features)\n",
    "\n",
    "targets = [\"spam\", \"nonspam\"]"
   ]
  },
  {
   "cell_type": "code",
   "execution_count": 76,
   "metadata": {},
   "outputs": [
    {
     "name": "stdout",
     "output_type": "stream",
     "text": [
      "digraph Tree {\n",
      "node [shape=box, style=\"filled, rounded\", color=\"black\", fontname=helvetica] ;\n",
      "edge [fontname=helvetica] ;\n",
      "0 [label=<char_freq_$ &le; -0.083<br/>gini = 0.476<br/>samples = 3450<br/>value = [2103, 1347]<br/>class = spam>, fillcolor=\"#e581395c\"] ;\n",
      "1 [label=<word_freq_remove &le; -0.151<br/>gini = 0.352<br/>samples = 2608<br/>value = [2013, 595]<br/>class = spam>, fillcolor=\"#e58139b4\"] ;\n",
      "0 -> 1 [labeldistance=2.5, labelangle=45, headlabel=\"True\"] ;\n",
      "2 [label=<char_freq_! &le; -0.096<br/>gini = 0.273<br/>samples = 2379<br/>value = [1991, 388]<br/>class = spam>, fillcolor=\"#e58139cd\"] ;\n",
      "1 -> 2 ;\n",
      "3 [label=<gini = 0.153<br/>samples = 1905<br/>value = [1746, 159]<br/>class = spam>, fillcolor=\"#e58139e8\"] ;\n",
      "2 -> 3 ;\n",
      "4 [label=<gini = 0.499<br/>samples = 474<br/>value = [245, 229]<br/>class = spam>, fillcolor=\"#e5813911\"] ;\n",
      "2 -> 4 ;\n",
      "5 [label=<word_freq_george &le; -0.18<br/>gini = 0.174<br/>samples = 229<br/>value = [22, 207]<br/>class = nonspam>, fillcolor=\"#399de5e4\"] ;\n",
      "1 -> 5 ;\n",
      "6 [label=<gini = 0.096<br/>samples = 218<br/>value = [11, 207]<br/>class = nonspam>, fillcolor=\"#399de5f1\"] ;\n",
      "5 -> 6 ;\n",
      "7 [label=<gini = 0.0<br/>samples = 11<br/>value = [11, 0]<br/>class = spam>, fillcolor=\"#e58139ff\"] ;\n",
      "5 -> 7 ;\n",
      "8 [label=<word_freq_hp &le; -0.089<br/>gini = 0.191<br/>samples = 842<br/>value = [90, 752]<br/>class = nonspam>, fillcolor=\"#399de5e0\"] ;\n",
      "0 -> 8 [labeldistance=2.5, labelangle=-45, headlabel=\"False\"] ;\n",
      "9 [label=<word_freq_edu &le; 0.357<br/>gini = 0.112<br/>samples = 792<br/>value = [47, 745]<br/>class = nonspam>, fillcolor=\"#399de5ef\"] ;\n",
      "8 -> 9 ;\n",
      "10 [label=<gini = 0.086<br/>samples = 780<br/>value = [35, 745]<br/>class = nonspam>, fillcolor=\"#399de5f3\"] ;\n",
      "9 -> 10 ;\n",
      "11 [label=<gini = 0.0<br/>samples = 12<br/>value = [12, 0]<br/>class = spam>, fillcolor=\"#e58139ff\"] ;\n",
      "9 -> 11 ;\n",
      "12 [label=<word_freq_email &le; 0.189<br/>gini = 0.241<br/>samples = 50<br/>value = [43, 7]<br/>class = spam>, fillcolor=\"#e58139d5\"] ;\n",
      "8 -> 12 ;\n",
      "13 [label=<gini = 0.044<br/>samples = 44<br/>value = [43, 1]<br/>class = spam>, fillcolor=\"#e58139f9\"] ;\n",
      "12 -> 13 ;\n",
      "14 [label=<gini = 0.0<br/>samples = 6<br/>value = [0, 6]<br/>class = nonspam>, fillcolor=\"#399de5ff\"] ;\n",
      "12 -> 14 ;\n",
      "}\n"
     ]
    }
   ],
   "source": [
    "clf = tree.DecisionTreeClassifier(max_depth=3)\n",
    "clf.fit(Xtr, Ytr)\n",
    "\n",
    "os.environ[\"PATH\"] += os.pathsep + '/Library/Frameworks/Python.framework/Versions/3.6/lib/python3.6/site-packages/graphviz/'\n",
    "# dot_data = tree.export_graphviz(clf, out_file=None)\n",
    "# graph = graphviz.Source(dot_data) \n",
    "dot_data = tree.export_graphviz(clf, out_file=None,feature_names= features,class_names=targets,filled=True, rounded=True,special_characters=True)  \n",
    "graph = graphviz.Source(dot_data)\n",
    "print(graph.source)\n",
    "#graph.render('/Users/zhangjiahang/Desktop/CS 178/Final project/dt.gv', view=True) \n",
    "\n"
   ]
  },
  {
   "cell_type": "code",
   "execution_count": null,
   "metadata": {},
   "outputs": [],
   "source": []
  },
  {
   "cell_type": "code",
   "execution_count": null,
   "metadata": {},
   "outputs": [],
   "source": []
  }
 ],
 "metadata": {
  "kernelspec": {
   "display_name": "Python 3",
   "language": "python",
   "name": "python3"
  },
  "language_info": {
   "codemirror_mode": {
    "name": "ipython",
    "version": 3
   },
   "file_extension": ".py",
   "mimetype": "text/x-python",
   "name": "python",
   "nbconvert_exporter": "python",
   "pygments_lexer": "ipython3",
   "version": "3.6.4"
  }
 },
 "nbformat": 4,
 "nbformat_minor": 2
}
