{
 "cells": [
  {
   "cell_type": "code",
   "execution_count": 1,
   "metadata": {},
   "outputs": [],
   "source": [
    "import numpy as np\n",
    "import matplotlib.pyplot as plt # use matplotlib for plotting with inline plots %matplotlib inline\n",
    "import warnings\n",
    "warnings.filterwarnings('ignore') # for deprecated matplotlib functions\n",
    "from sklearn.preprocessing import StandardScaler\n",
    "from sklearn.model_selection import train_test_split\n",
    "from sklearn import tree\n",
    "from sklearn.tree import DecisionTreeClassifier, export_graphviz\n",
    "from sklearn.externals.six import StringIO\n",
    "from sklearn.metrics import roc_curve, auc\n",
    "import graphviz \n",
    "from graphviz import Digraph\n",
    "import os"
   ]
  },
  {
   "cell_type": "code",
   "execution_count": 2,
   "metadata": {},
   "outputs": [
    {
     "name": "stdout",
     "output_type": "stream",
     "text": [
      "['word_freq_make', 'word_freq_address', 'word_freq_all', 'word_freq_3d', 'word_freq_our', 'word_freq_over', 'word_freq_remove', 'word_freq_internet', 'word_freq_order', 'word_freq_mail', 'word_freq_receive', 'word_freq_will', 'word_freq_people', 'word_freq_report', 'word_freq_addresses', 'word_freq_free', 'word_freq_business', 'word_freq_email', 'word_freq_you', 'word_freq_credit', 'word_freq_your', 'word_freq_font', 'word_freq_000', 'word_freq_money', 'word_freq_hp', 'word_freq_hpl', 'word_freq_george', 'word_freq_650', 'word_freq_lab', 'word_freq_labs', 'word_freq_telnet', 'word_freq_857', 'word_freq_data', 'word_freq_415', 'word_freq_85', 'word_freq_technology', 'word_freq_1999', 'word_freq_parts', 'word_freq_pm', 'word_freq_direct', 'word_freq_cs', 'word_freq_meeting', 'word_freq_original', 'word_freq_project', 'word_freq_re', 'word_freq_edu', 'word_freq_table', 'word_freq_conference', 'char_freq_;', 'char_freq_(', 'char_freq_[', 'char_freq_!', 'char_freq_$', 'char_freq_#', 'capital_run_length_average', 'capital_run_length_longest', 'capital_run_length_total']\n"
     ]
    }
   ],
   "source": [
    "# load data\n",
    "spamdata = np.genfromtxt(\"/Users/zhangjiahang/Desktop/CS 178/Final project/spambase.txt\",delimiter=\",\")\n",
    "X, Y = spamdata[:,0:57], spamdata[:,-1]\n",
    "scaler = StandardScaler()\n",
    "X = scaler.fit_transform(X)\n",
    "\n",
    "Xtr, Xte, Ytr, Yte = train_test_split(X, Y, test_size = 0.25, shuffle = True)\n",
    "\n",
    "features = []\n",
    "with open (\"/Users/zhangjiahang/Desktop/CS 178/Final project/spambasenames.txt\", encoding = \"utf-8\" ) as line_list:\n",
    "    for line in line_list:\n",
    "        feature = line.split(\":\")\n",
    "        features.append(feature[0])\n",
    "print(features)\n",
    "\n",
    "targets = [\"spam\", \"nonspam\"]"
   ]
  },
  {
   "cell_type": "code",
   "execution_count": 3,
   "metadata": {},
   "outputs": [
    {
     "name": "stdout",
     "output_type": "stream",
     "text": [
      "0.9649275362318841\n",
      "0.9218071242397915\n"
     ]
    },
    {
     "data": {
      "text/plain": [
       "([<matplotlib.axis.XTick at 0x120959a90>,\n",
       "  <matplotlib.axis.XTick at 0x120959320>,\n",
       "  <matplotlib.axis.XTick at 0x1209591d0>,\n",
       "  <matplotlib.axis.XTick at 0x1207f8160>,\n",
       "  <matplotlib.axis.XTick at 0x1207f85f8>,\n",
       "  <matplotlib.axis.XTick at 0x1207f8ac8>],\n",
       " <a list of 6 Text xticklabel objects>)"
      ]
     },
     "execution_count": 3,
     "metadata": {},
     "output_type": "execute_result"
    },
    {
     "data": {
      "image/png": "[encoded data removed]",
      "text/plain": [
       "<Figure size 432x288 with 1 Axes>"
      ]
     },
     "metadata": {
      "needs_background": "light"
     },
     "output_type": "display_data"
    }
   ],
   "source": [
    "clf = tree.DecisionTreeClassifier(max_depth = 10)\n",
    "clf.fit(Xtr, Ytr)\n",
    "\n",
    "os.environ[\"PATH\"] += os.pathsep + '/Library/Frameworks/Python.framework/Versions/3.6/lib/python3.6/site-packages/graphviz/'\n",
    "# dot_data = tree.export_graphviz(clf, out_file=None)\n",
    "# graph = graphviz.Source(dot_data) \n",
    "dot_data = tree.export_graphviz(clf, out_file=None,feature_names= features,class_names=targets,filled=True, rounded=True,special_characters=True)  \n",
    "graph = graphviz.Source(dot_data)\n",
    "#print(graph.source)\n",
    "#graph.render('/Users/zhangjiahang/Desktop/CS 178/Final project/dt.gv', view=True) \n",
    "print(clf.score(Xtr, Ytr))\n",
    "print(clf.score(Xte, Yte))\n",
    "#, 14, 16, 18, 20, 22, 24, 26, 28, 30, 32, 34, 36\n",
    "\n",
    "\n",
    "m_depth = [2, 4, 6, 8, 10, 12]\n",
    "err_train = []\n",
    "err_test = []\n",
    "for i in m_depth:\n",
    "    clf = tree.DecisionTreeClassifier(max_depth = i)\n",
    "    clf.fit(Xtr, Ytr)\n",
    "    err_train.append(1-clf.score(Xtr, Ytr))\n",
    "    err_test.append(1-clf.score(Xte, Yte))\n",
    "\n",
    "plt.semilogy(m_depth, err_train)\n",
    "plt.semilogy(m_depth, err_test)\n",
    "plt.xticks([2, 4, 6, 8, 10, 12])  "
   ]
  },
  {
   "cell_type": "code",
   "execution_count": null,
   "metadata": {},
   "outputs": [],
   "source": []
  },
  {
   "cell_type": "code",
   "execution_count": null,
   "metadata": {},
   "outputs": [],
   "source": []
  }
 ],
 "metadata": {
  "kernelspec": {
   "display_name": "Python 3",
   "language": "python",
   "name": "python3"
  },
  "language_info": {
   "codemirror_mode": {
    "name": "ipython",
    "version": 3
   },
   "file_extension": ".py",
   "mimetype": "text/x-python",
   "name": "python",
   "nbconvert_exporter": "python",
   "pygments_lexer": "ipython3",
   "version": "3.6.4"
  }
 },
 "nbformat": 4,
 "nbformat_minor": 2
}
