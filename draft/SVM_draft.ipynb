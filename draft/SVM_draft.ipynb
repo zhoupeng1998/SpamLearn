{
 "cells": [
  {
   "cell_type": "code",
   "execution_count": 1,
   "metadata": {},
   "outputs": [],
   "source": [
    "import numpy as np\n",
    "import matplotlib.pyplot as plt # use matplotlib for plotting with inline plots %matplotlib inline\n",
    "import warnings\n",
    "warnings.filterwarnings('ignore') # for deprecated matplotlib functions\n",
    "from sklearn.linear_model import LogisticRegression\n",
    "from sklearn.preprocessing import StandardScaler\n",
    "from sklearn.model_selection import train_test_split\n",
    "from sklearn.svm import SVC"
   ]
  },
  {
   "cell_type": "code",
   "execution_count": 2,
   "metadata": {},
   "outputs": [],
   "source": [
    "# load data\n",
    "spamdata = np.genfromtxt(\"spambase/spambase.data\",delimiter=\",\")\n",
    "X, Y = spamdata[:,0:57], spamdata[:,-1]\n",
    "\n",
    "scaler = StandardScaler()\n",
    "X = scaler.fit_transform(X)\n",
    "\n",
    "Xtr, Xte, Ytr, Yte = train_test_split(X, Y, test_size = 0.25, shuffle = True)"
   ]
  },
  {
   "cell_type": "code",
   "execution_count": 3,
   "metadata": {},
   "outputs": [
    {
     "name": "stdout",
     "output_type": "stream",
     "text": [
      "Number of features:\t 57\n",
      "Number of training data points:\t 3450\n",
      "Number of test data points:\t 1151\n"
     ]
    }
   ],
   "source": [
    "print(\"Number of features:\\t\", X.shape[1])\n",
    "print(\"Number of training data points:\\t\", Xtr.shape[0])\n",
    "print(\"Number of test data points:\\t\", Xte.shape[0])"
   ]
  },
  {
   "cell_type": "code",
   "execution_count": 4,
   "metadata": {},
   "outputs": [
    {
     "name": "stdout",
     "output_type": "stream",
     "text": [
      "training score:\t 0.9472463768115942\n",
      "test score:\t 0.9383145091225021\n"
     ]
    }
   ],
   "source": [
    "clf = SVC().fit(Xtr, Ytr)\n",
    "print(\"Training score:\\t\", clf.score(Xtr,Ytr))\n",
    "print(\"Test score:\\t\", clf.score(Xte,Yte))"
   ]
  },
  {
   "cell_type": "code",
   "execution_count": 5,
   "metadata": {},
   "outputs": [
    {
     "name": "stdout",
     "output_type": "stream",
     "text": [
      "Error rate:  0.06168549087749783\n"
     ]
    }
   ],
   "source": [
    "Yhat = clf.predict(Xte)\n",
    "err = 0\n",
    "for i in range(len(Xte)):\n",
    "    if Yhat[i] != Yte[i]:\n",
    "        err += 1\n",
    "print(\"Error rate: \", err/len(Xte))"
   ]
  }
 ],
 "metadata": {
  "kernelspec": {
   "display_name": "Python 3",
   "language": "python",
   "name": "python3"
  },
  "language_info": {
   "codemirror_mode": {
    "name": "ipython",
    "version": 3
   },
   "file_extension": ".py",
   "mimetype": "text/x-python",
   "name": "python",
   "nbconvert_exporter": "python",
   "pygments_lexer": "ipython3",
   "version": "3.6.1"
  }
 },
 "nbformat": 4,
 "nbformat_minor": 2
}
