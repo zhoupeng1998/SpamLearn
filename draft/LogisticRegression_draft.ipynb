{
 "cells": [
  {
   "cell_type": "code",
   "execution_count": 1,
   "metadata": {},
   "outputs": [],
   "source": [
    "import numpy as np\n",
    "from sklearn.preprocessing import PolynomialFeatures, StandardScaler\n",
    "from sklearn.model_selection import train_test_split\n",
    "from sklearn.decomposition import PCA\n",
    "from sklearn.linear_model import LogisticRegression\n",
    "from sklearn.metrics import confusion_matrix\n",
    "import matplotlib.pyplot as plt\n",
    "%matplotlib inline\n",
    "from sklearn.feature_selection import RFE"
   ]
  },
  {
   "cell_type": "code",
   "execution_count": 2,
   "metadata": {},
   "outputs": [
    {
     "name": "stdout",
     "output_type": "stream",
     "text": [
      "[[0.000e+00 6.400e-01 6.400e-01 ... 3.756e+00 6.100e+01 2.780e+02]\n",
      " [2.100e-01 2.800e-01 5.000e-01 ... 5.114e+00 1.010e+02 1.028e+03]\n",
      " [6.000e-02 0.000e+00 7.100e-01 ... 9.821e+00 4.850e+02 2.259e+03]\n",
      " ...\n",
      " [3.000e-01 0.000e+00 3.000e-01 ... 1.404e+00 6.000e+00 1.180e+02]\n",
      " [9.600e-01 0.000e+00 0.000e+00 ... 1.147e+00 5.000e+00 7.800e+01]\n",
      " [0.000e+00 0.000e+00 6.500e-01 ... 1.250e+00 5.000e+00 4.000e+01]]\n"
     ]
    }
   ],
   "source": [
    "data = np.genfromtxt(\"spambase.data\", delimiter=',')\n",
    "X = data[:,:-1]\n",
    "#X = data[:,:48]\n",
    "Y = data[:,-1]\n",
    "#scaler = StandardScaler()\n",
    "#X = scaler.fit_transform(X)\n",
    "print(X)"
   ]
  },
  {
   "cell_type": "code",
   "execution_count": 3,
   "metadata": {},
   "outputs": [],
   "source": [
    "Xtr, Xte, Ytr, Yte = train_test_split(X, Y, test_size=0.3, shuffle=True, random_state=1)"
   ]
  },
  {
   "cell_type": "code",
   "execution_count": 4,
   "metadata": {},
   "outputs": [
    {
     "name": "stdout",
     "output_type": "stream",
     "text": [
      "Number of features:\t 57\n",
      "Number of training data points:\t 3220\n",
      "Number of test data points:\t 1381\n"
     ]
    }
   ],
   "source": [
    "print(\"Number of features:\\t\", X.shape[1])\n",
    "print(\"Number of training data points:\\t\", Xtr.shape[0])\n",
    "print(\"Number of test data points:\\t\", Xte.shape[0])"
   ]
  },
  {
   "cell_type": "code",
   "execution_count": 5,
   "metadata": {},
   "outputs": [
    {
     "name": "stdout",
     "output_type": "stream",
     "text": [
      "(4601, 57)\n"
     ]
    }
   ],
   "source": [
    "print(X.shape)"
   ]
  },
  {
   "cell_type": "markdown",
   "metadata": {},
   "source": [
    "## Feature Selection - RFE"
   ]
  },
  {
   "cell_type": "code",
   "execution_count": 24,
   "metadata": {},
   "outputs": [],
   "source": [
    "def get_features (support):\n",
    "    count = 0\n",
    "    arr = []\n",
    "    for i in support:\n",
    "        if i:\n",
    "            arr.append(count)\n",
    "        count += 1\n",
    "    return arr"
   ]
  },
  {
   "cell_type": "code",
   "execution_count": 26,
   "metadata": {},
   "outputs": [],
   "source": [
    "cnt = 0\n",
    "train_scores = list()\n",
    "test_scores = list()\n",
    "for i in range(1,X.shape[1]+1):\n",
    "    logreg = LogisticRegression(tol=1e-8, C=0.1, random_state=0, solver='lbfgs', multi_class='multinomial', max_iter=10000)\n",
    "    selector = RFE(logreg, i).fit(X, Y)\n",
    "    features = get_features(selector.support_)\n",
    "    Xrfe = X[:,features]\n",
    "    Xrfe_tr, Xrfe_te, Yrfe_tr, Yrfe_te = train_test_split(Xrfe, Y, test_size=0.3, shuffle=True, random_state=1)\n",
    "    clf = logreg.fit(Xrfe_tr,Yrfe_tr)\n",
    "    train_score = clf.score(Xrfe_tr,Yrfe_tr)\n",
    "    test_score = clf.score(Xrfe_te,Yrfe_te)\n",
    "    '''\n",
    "    print(\"features:\\t\",i)\n",
    "    print(\"training score:\\t\", train_score)\n",
    "    print(\"test score:\\t\", test_score)\n",
    "    '''\n",
    "    train_scores.append(train_score)\n",
    "    test_scores.append(test_score)"
   ]
  },
  {
   "cell_type": "code",
   "execution_count": 27,
   "metadata": {},
   "outputs": [
    {
     "data": {
      "image/png": "[encoded data removed]",
      "text/plain": [
       "<Figure size 1080x576 with 1 Axes>"
      ]
     },
     "metadata": {
      "needs_background": "light"
     },
     "output_type": "display_data"
    }
   ],
   "source": [
    "plt.rcParams[\"figure.figsize\"] = (15.0,8.0)\n",
    "plt.semilogy(range(1,X.shape[1]+1), train_scores, label=\"training score\")\n",
    "plt.semilogy(range(1,X.shape[1]+1), test_scores, label=\"test score\")\n",
    "plt.legend()\n",
    "plt.show()"
   ]
  },
  {
   "cell_type": "code",
   "execution_count": 32,
   "metadata": {},
   "outputs": [
    {
     "name": "stdout",
     "output_type": "stream",
     "text": [
      "At feature = 49  test score at highest at: 0.9283128167994207\n"
     ]
    }
   ],
   "source": [
    "res = sorted(enumerate(test_scores), key=lambda d:d[1])[-1]\n",
    "print(\"At feature =\", res[0],\" test score at highest at:\", res[1])"
   ]
  },
  {
   "cell_type": "markdown",
   "metadata": {},
   "source": [
    "## Data Training"
   ]
  },
  {
   "cell_type": "code",
   "execution_count": 8,
   "metadata": {},
   "outputs": [],
   "source": [
    "#pca = PCA(n_components=30)\n",
    "#Xpca = pca.fit_transform(X)\n",
    "#print(Xpca)"
   ]
  },
  {
   "cell_type": "code",
   "execution_count": 9,
   "metadata": {},
   "outputs": [],
   "source": [
    "logreg = LogisticRegression(tol=1e-8, C=0.1, random_state=0, solver='lbfgs', multi_class='multinomial', max_iter=10000)\n",
    "clf = logreg.fit(Xtr,Ytr)\n",
    "#clf  = LogisticRegression(tol=1e-8, C=10.0).fit(Xtr, Ytr)"
   ]
  },
  {
   "cell_type": "code",
   "execution_count": 10,
   "metadata": {},
   "outputs": [
    {
     "name": "stdout",
     "output_type": "stream",
     "text": [
      "training score:\t 0.9267080745341615\n",
      "test score:\t 0.9225199131064447\n"
     ]
    }
   ],
   "source": [
    "print(\"training score:\\t\", clf.score(Xtr,Ytr))\n",
    "print(\"test score:\\t\", clf.score(Xte,Yte))"
   ]
  },
  {
   "cell_type": "code",
   "execution_count": 11,
   "metadata": {},
   "outputs": [],
   "source": [
    "Yhat = clf.predict(Xte)"
   ]
  },
  {
   "cell_type": "code",
   "execution_count": 12,
   "metadata": {},
   "outputs": [
    {
     "name": "stdout",
     "output_type": "stream",
     "text": [
      "Error rate:  0.0774800868935554\n",
      "Ham Messages:  841\n",
      "Ham Prediction:  888\n",
      "Spam Messages:  540\n",
      "Spam Prediction:  493\n"
     ]
    },
    {
     "data": {
      "text/plain": [
       "array([[811,  30],\n",
       "       [ 77, 463]])"
      ]
     },
     "execution_count": 12,
     "metadata": {},
     "output_type": "execute_result"
    }
   ],
   "source": [
    "err = 0\n",
    "for i in range(len(Xte)):\n",
    "    if Yhat[i] != Yte[i]:\n",
    "        err += 1\n",
    "print(\"Error rate: \", err/len(Xte))\n",
    "\n",
    "print(\"Ham Messages: \", len(np.where(Yte == 0)[0]))\n",
    "print(\"Ham Prediction: \", len(np.where(Yhat == 0)[0]))\n",
    "print(\"Spam Messages: \", len(np.where(Yte == 1)[0]))\n",
    "print(\"Spam Prediction: \", len(np.where(Yhat == 1)[0]))\n",
    "\n",
    "confusion_matrix(Yte, Yhat)"
   ]
  },
  {
   "cell_type": "markdown",
   "metadata": {},
   "source": [
    "## Changing Parameters"
   ]
  },
  {
   "cell_type": "code",
   "execution_count": 13,
   "metadata": {},
   "outputs": [
    {
     "name": "stdout",
     "output_type": "stream",
     "text": [
      "C= 10000\n",
      "training score:\t 0.931055900621118\n",
      "test score:\t 0.9261404779145547\n",
      "C= 1000.0\n",
      "training score:\t 0.9313664596273292\n",
      "test score:\t 0.9246922519913107\n",
      "C= 100.0\n",
      "training score:\t 0.9304347826086956\n",
      "test score:\t 0.9254163649529327\n",
      "C= 10.0\n",
      "training score:\t 0.931055900621118\n",
      "test score:\t 0.9275887038377987\n",
      "C= 1.0\n",
      "training score:\t 0.9304347826086956\n",
      "test score:\t 0.9304851556842868\n",
      "C= 0.1\n",
      "training score:\t 0.9267080745341615\n",
      "test score:\t 0.9225199131064447\n",
      "C= 0.01\n",
      "training score:\t 0.9062111801242236\n",
      "test score:\t 0.9058653149891384\n",
      "C= 0.001\n",
      "training score:\t 0.8611801242236025\n",
      "test score:\t 0.8624185372918175\n",
      "C= 0.0001\n",
      "training score:\t 0.7562111801242236\n",
      "test score:\t 0.7530774800868936\n",
      "C= 1e-05\n",
      "training score:\t 0.7391304347826086\n",
      "test score:\t 0.718320057929037\n"
     ]
    }
   ],
   "source": [
    "init = 10000\n",
    "cval = []\n",
    "train_error = []\n",
    "test_error = []\n",
    "for i in range(10):\n",
    "    logreg = LogisticRegression(tol=1e-8, C=init, solver='lbfgs', multi_class='multinomial', max_iter=10000)\n",
    "    clf = logreg.fit(Xtr,Ytr)\n",
    "    train_error.append(1 - clf.score(Xtr,Ytr))\n",
    "    test_error.append(1 - clf.score(Xte,Yte))\n",
    "    cval.append(init)\n",
    "    print(\"C=\",init)\n",
    "    print(\"training score:\\t\", clf.score(Xtr,Ytr))\n",
    "    print(\"test score:\\t\", clf.score(Xte,Yte))\n",
    "    init /= 10"
   ]
  },
  {
   "cell_type": "markdown",
   "metadata": {},
   "source": [
    "## Adding Polynomial Features"
   ]
  },
  {
   "cell_type": "code",
   "execution_count": 14,
   "metadata": {},
   "outputs": [
    {
     "name": "stdout",
     "output_type": "stream",
     "text": [
      "training score:\t 0.6456521739130435\n",
      "test score:\t 0.6524257784214338\n"
     ]
    },
    {
     "name": "stderr",
     "output_type": "stream",
     "text": [
      "/Library/Frameworks/Python.framework/Versions/3.6/lib/python3.6/site-packages/sklearn/linear_model/logistic.py:758: ConvergenceWarning: lbfgs failed to converge. Increase the number of iterations.\n",
      "  \"of iterations.\", ConvergenceWarning)\n"
     ]
    }
   ],
   "source": [
    "poly = PolynomialFeatures(2).fit(Xtr)\n",
    "XtrP = poly.transform(Xtr)\n",
    "\n",
    "#scaler = StandardScaler().fit(XtrP, Ytr)\n",
    "#XtrP = scaler.transform(XtrP)\n",
    "\n",
    "XteP = poly.transform(Xte)\n",
    "\n",
    "lrP = LogisticRegression(tol=1e-10, C=100, random_state=0, solver='lbfgs', multi_class='multinomial')\n",
    "clf = lrP.fit(XtrP,Ytr)\n",
    "\n",
    "print(\"training score:\\t\", clf.score(XtrP,Ytr))\n",
    "print(\"test score:\\t\", clf.score(XteP,Yte))"
   ]
  },
  {
   "cell_type": "code",
   "execution_count": null,
   "metadata": {},
   "outputs": [],
   "source": []
  },
  {
   "cell_type": "code",
   "execution_count": null,
   "metadata": {},
   "outputs": [],
   "source": []
  }
 ],
 "metadata": {
  "kernelspec": {
   "display_name": "Python 3",
   "language": "python",
   "name": "python3"
  },
  "language_info": {
   "codemirror_mode": {
    "name": "ipython",
    "version": 3
   },
   "file_extension": ".py",
   "mimetype": "text/x-python",
   "name": "python",
   "nbconvert_exporter": "python",
   "pygments_lexer": "ipython3",
   "version": "3.6.1"
  }
 },
 "nbformat": 4,
 "nbformat_minor": 2
}
