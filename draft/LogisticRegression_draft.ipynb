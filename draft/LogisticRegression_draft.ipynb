{
 "cells": [
  {
   "cell_type": "code",
   "execution_count": 1,
   "metadata": {},
   "outputs": [],
   "source": [
    "import numpy as np\n",
    "from sklearn.preprocessing import StandardScaler\n",
    "from sklearn.model_selection import train_test_split\n",
    "from sklearn.decomposition import PCA\n",
    "from sklearn.linear_model import LogisticRegression"
   ]
  },
  {
   "cell_type": "code",
   "execution_count": 2,
   "metadata": {},
   "outputs": [],
   "source": [
    "data = np.genfromtxt(\"spambase/spambase.data\", delimiter=',')\n",
    "X = data[:,:57]\n",
    "Y = data[:,-1]\n",
    "scaler = StandardScaler()\n",
    "X = scaler.fit_transform(X)"
   ]
  },
  {
   "cell_type": "code",
   "execution_count": 3,
   "metadata": {},
   "outputs": [],
   "source": [
    "Xtr, Xte, Ytr, Yte = train_test_split(X, Y, test_size=0.05, shuffle=True)"
   ]
  },
  {
   "cell_type": "code",
   "execution_count": 4,
   "metadata": {},
   "outputs": [
    {
     "name": "stdout",
     "output_type": "stream",
     "text": [
      "Number of features:\t 57\n",
      "Number of training data points:\t 4370\n",
      "Number of test data points:\t 231\n"
     ]
    }
   ],
   "source": [
    "print(\"Number of features:\\t\", X.shape[1])\n",
    "print(\"Number of training data points:\\t\", Xtr.shape[0])\n",
    "print(\"Number of test data points:\\t\", Xte.shape[0])"
   ]
  },
  {
   "cell_type": "code",
   "execution_count": 5,
   "metadata": {},
   "outputs": [],
   "source": [
    "#pca = PCA(n_components=30)\n",
    "#Xpca = pca.fit_transform(X)\n",
    "#print(Xpca)"
   ]
  },
  {
   "cell_type": "code",
   "execution_count": 6,
   "metadata": {},
   "outputs": [
    {
     "name": "stderr",
     "output_type": "stream",
     "text": [
      "/Library/Frameworks/Python.framework/Versions/3.6/lib/python3.6/site-packages/sklearn/linear_model/logistic.py:758: ConvergenceWarning: lbfgs failed to converge. Increase the number of iterations.\n",
      "  \"of iterations.\", ConvergenceWarning)\n"
     ]
    }
   ],
   "source": [
    "logreg = LogisticRegression(tol=1e-8, C=10.0, random_state=0, solver='lbfgs', multi_class='multinomial')\n",
    "clf = logreg.fit(Xtr,Ytr)\n",
    "#clf  = LogisticRegression(tol=1e-8, C=10.0).fit(Xtr, Ytr)"
   ]
  },
  {
   "cell_type": "code",
   "execution_count": 7,
   "metadata": {},
   "outputs": [
    {
     "name": "stdout",
     "output_type": "stream",
     "text": [
      "training score:\t 0.9320366132723112\n",
      "test score:\t 0.9437229437229437\n"
     ]
    }
   ],
   "source": [
    "print(\"training score:\\t\", clf.score(Xtr,Ytr))\n",
    "print(\"test score:\\t\", clf.score(Xte,Yte))"
   ]
  },
  {
   "cell_type": "code",
   "execution_count": 8,
   "metadata": {},
   "outputs": [],
   "source": [
    "Yhat = clf.predict(Xte)"
   ]
  },
  {
   "cell_type": "code",
   "execution_count": 9,
   "metadata": {},
   "outputs": [
    {
     "name": "stdout",
     "output_type": "stream",
     "text": [
      "Error rate:  0.05627705627705628\n"
     ]
    }
   ],
   "source": [
    "err = 0\n",
    "for i in range(len(Xte)):\n",
    "    if Yhat[i] != Yte[i]:\n",
    "        err += 1\n",
    "print(\"Error rate: \", err/len(Xte))"
   ]
  },
  {
   "cell_type": "code",
   "execution_count": null,
   "metadata": {},
   "outputs": [],
   "source": []
  }
 ],
 "metadata": {
  "kernelspec": {
   "display_name": "Python 3",
   "language": "python",
   "name": "python3"
  },
  "language_info": {
   "codemirror_mode": {
    "name": "ipython",
    "version": 3
   },
   "file_extension": ".py",
   "mimetype": "text/x-python",
   "name": "python",
   "nbconvert_exporter": "python",
   "pygments_lexer": "ipython3",
   "version": "3.6.1"
  }
 },
 "nbformat": 4,
 "nbformat_minor": 2
}
