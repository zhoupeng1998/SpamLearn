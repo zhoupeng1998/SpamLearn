{
 "cells": [
  {
   "cell_type": "code",
   "execution_count": 17,
   "metadata": {},
   "outputs": [],
   "source": [
    "import numpy as np\n",
    "from sklearn.preprocessing import PolynomialFeatures, StandardScaler\n",
    "from sklearn.model_selection import train_test_split\n",
    "from sklearn.decomposition import PCA\n",
    "from sklearn.linear_model import LogisticRegression\n",
    "from sklearn.metrics import confusion_matrix\n",
    "import matplotlib.pyplot as plt\n",
    "%matplotlib inline\n",
    "from sklearn.feature_selection import RFE, SelectFromModel, RFECV\n",
    "from yellowbrick.classifier import ClassificationReport, ROCAUC, ConfusionMatrix\n",
    "from yellowbrick.features import RFECV\n",
    "import warnings\n",
    "warnings.filterwarnings('ignore') # for deprecated matplotlib functions"
   ]
  },
  {
   "cell_type": "code",
   "execution_count": 2,
   "metadata": {},
   "outputs": [],
   "source": [
    "data = np.genfromtxt(\"spambase.data\", delimiter=',')\n",
    "X = data[:,:-1]\n",
    "#X = data[:,:48]\n",
    "Y = data[:,-1]\n",
    "#scaler = StandardScaler()\n",
    "#X = scaler.fit_transform(X)\n",
    "#print(X)"
   ]
  },
  {
   "cell_type": "code",
   "execution_count": 3,
   "metadata": {},
   "outputs": [],
   "source": [
    "Xtr, Xte, Ytr, Yte = train_test_split(X, Y, test_size=0.3, shuffle=True, random_state=1)"
   ]
  },
  {
   "cell_type": "code",
   "execution_count": 4,
   "metadata": {},
   "outputs": [
    {
     "name": "stdout",
     "output_type": "stream",
     "text": [
      "Number of features:\t 57\n",
      "Number of training data points:\t 3220\n",
      "Number of test data points:\t 1381\n"
     ]
    }
   ],
   "source": [
    "print(\"Number of features:\\t\", X.shape[1])\n",
    "print(\"Number of training data points:\\t\", Xtr.shape[0])\n",
    "print(\"Number of test data points:\\t\", Xte.shape[0])"
   ]
  },
  {
   "cell_type": "code",
   "execution_count": 5,
   "metadata": {},
   "outputs": [
    {
     "name": "stdout",
     "output_type": "stream",
     "text": [
      "(4601, 57)\n"
     ]
    }
   ],
   "source": [
    "print(X.shape)"
   ]
  },
  {
   "cell_type": "markdown",
   "metadata": {},
   "source": [
    "## Feature Selection - RFE"
   ]
  },
  {
   "cell_type": "code",
   "execution_count": null,
   "metadata": {},
   "outputs": [],
   "source": [
    "def get_features (support):\n",
    "    count = 0\n",
    "    arr = []\n",
    "    for i in support:\n",
    "        if i:\n",
    "            arr.append(count)\n",
    "        count += 1\n",
    "    return arr"
   ]
  },
  {
   "cell_type": "code",
   "execution_count": null,
   "metadata": {},
   "outputs": [],
   "source": [
    "cnt = 0\n",
    "train_scores = list()\n",
    "test_scores = list()\n",
    "for i in range(1,X.shape[1]+1):\n",
    "    logreg = LogisticRegression(tol=1e-8, C=0.1, random_state=0, solver='lbfgs', multi_class='multinomial', max_iter=10000)\n",
    "    selector = RFE(logreg, i).fit(X, Y)\n",
    "    features = get_features(selector.support_)\n",
    "    Xrfe = X[:,features]\n",
    "    Xrfe_tr, Xrfe_te, Yrfe_tr, Yrfe_te = train_test_split(Xrfe, Y, test_size=0.3, shuffle=True, random_state=1)\n",
    "    clf = logreg.fit(Xrfe_tr,Yrfe_tr)\n",
    "    train_score = clf.score(Xrfe_tr,Yrfe_tr)\n",
    "    test_score = clf.score(Xrfe_te,Yrfe_te)\n",
    "    '''\n",
    "    print(\"features:\\t\",i)\n",
    "    print(\"training score:\\t\", train_score)\n",
    "    print(\"test score:\\t\", test_score)\n",
    "    '''\n",
    "    train_scores.append(train_score)\n",
    "    test_scores.append(test_score)"
   ]
  },
  {
   "cell_type": "code",
   "execution_count": null,
   "metadata": {},
   "outputs": [],
   "source": [
    "#plt.rcParams[\"figure.figsize\"] = (15.0,8.0)\n",
    "plt.semilogy(range(1,X.shape[1]+1), train_scores, label=\"training score\")\n",
    "plt.semilogy(range(1,X.shape[1]+1), test_scores, label=\"test score\")\n",
    "plt.xlabel('Features')\n",
    "plt.ylabel('Score')\n",
    "plt.legend()\n",
    "plt.show()"
   ]
  },
  {
   "cell_type": "code",
   "execution_count": null,
   "metadata": {},
   "outputs": [],
   "source": [
    "res = sorted(enumerate(test_scores), key=lambda d:d[1])[-1]\n",
    "print(\"At feature =\", res[0],\" test score at highest at:\", res[1])"
   ]
  },
  {
   "cell_type": "markdown",
   "metadata": {},
   "source": [
    "## RFECV"
   ]
  },
  {
   "cell_type": "code",
   "execution_count": 18,
   "metadata": {},
   "outputs": [
    {
     "data": {
      "image/png": "[encoded data removed]",
      "text/plain": [
       "<Figure size 432x288 with 1 Axes>"
      ]
     },
     "metadata": {
      "needs_background": "light"
     },
     "output_type": "display_data"
    }
   ],
   "source": [
    "model = LogisticRegression(solver='lbfgs', multi_class='multinomial', max_iter=100000)\n",
    "viz = RFECV(model)\n",
    "viz.fit(X, Y)\n",
    "viz.poof()"
   ]
  },
  {
   "cell_type": "markdown",
   "metadata": {},
   "source": [
    "## Feature Selection - SelectFromModel"
   ]
  },
  {
   "cell_type": "code",
   "execution_count": null,
   "metadata": {},
   "outputs": [],
   "source": [
    "logreg = LogisticRegression(tol=1e-8, C=0.1, random_state=0, solver='lbfgs', multi_class='multinomial', max_iter=10000).fit(X, Y)\n",
    "model = SelectFromModel(logreg, prefit=True)\n",
    "X_new = model.transform(X)\n",
    "Xtr, Xte, Ytr, Yte = train_test_split(X_new, Y, test_size=0.3, shuffle=True, random_state=1)\n",
    "\n",
    "clf = LogisticRegression(tol=1e-8, C=0.1, random_state=0, solver='lbfgs', multi_class='multinomial', max_iter=10000).fit(Xtr,Ytr)\n",
    "print(\"features:\\t\",X_new.shape)\n",
    "print(\"training score:\\t\", clf.score(Xtr,Ytr))\n",
    "print(\"test score:\\t\", clf.score(Xte,Yte))"
   ]
  },
  {
   "cell_type": "markdown",
   "metadata": {},
   "source": [
    "## Data Training"
   ]
  },
  {
   "cell_type": "code",
   "execution_count": null,
   "metadata": {},
   "outputs": [],
   "source": [
    "#pca = PCA(n_components=30)\n",
    "#Xpca = pca.fit_transform(X)\n",
    "#print(Xpca)"
   ]
  },
  {
   "cell_type": "code",
   "execution_count": null,
   "metadata": {},
   "outputs": [],
   "source": [
    "logreg = LogisticRegression(tol=1e-8, C=0.1, random_state=0, solver='lbfgs', multi_class='multinomial', max_iter=10000)\n",
    "clf = logreg.fit(Xtr,Ytr)\n",
    "#clf  = LogisticRegression(tol=1e-8, C=10.0).fit(Xtr, Ytr)"
   ]
  },
  {
   "cell_type": "code",
   "execution_count": null,
   "metadata": {},
   "outputs": [],
   "source": [
    "print(\"training score:\\t\", clf.score(Xtr,Ytr))\n",
    "print(\"test score:\\t\", clf.score(Xte,Yte))"
   ]
  },
  {
   "cell_type": "code",
   "execution_count": null,
   "metadata": {},
   "outputs": [],
   "source": [
    "Yhat = clf.predict(Xte)"
   ]
  },
  {
   "cell_type": "code",
   "execution_count": null,
   "metadata": {},
   "outputs": [],
   "source": [
    "err = 0\n",
    "for i in range(len(Xte)):\n",
    "    if Yhat[i] != Yte[i]:\n",
    "        err += 1\n",
    "print(\"Error rate: \", err/len(Xte))\n",
    "\n",
    "print(\"Ham Messages: \", len(np.where(Yte == 0)[0]))\n",
    "print(\"Ham Prediction: \", len(np.where(Yhat == 0)[0]))\n",
    "print(\"Spam Messages: \", len(np.where(Yte == 1)[0]))\n",
    "print(\"Spam Prediction: \", len(np.where(Yhat == 1)[0]))\n",
    "\n",
    "confusion_matrix(Yte, Yhat)"
   ]
  },
  {
   "cell_type": "markdown",
   "metadata": {},
   "source": [
    "## Changing Parameters"
   ]
  },
  {
   "cell_type": "code",
   "execution_count": null,
   "metadata": {},
   "outputs": [],
   "source": [
    "init = 10000\n",
    "cval = []\n",
    "train_error = []\n",
    "test_error = []\n",
    "for i in range(10):\n",
    "    logreg = LogisticRegression(tol=1e-8, C=init, solver='lbfgs', multi_class='multinomial', max_iter=10000)\n",
    "    clf = logreg.fit(Xtr,Ytr)\n",
    "    train_error.append(1 - clf.score(Xtr,Ytr))\n",
    "    test_error.append(1 - clf.score(Xte,Yte))\n",
    "    cval.append(init)\n",
    "    print(\"C=\",init)\n",
    "    print(\"training score:\\t\", clf.score(Xtr,Ytr))\n",
    "    print(\"test score:\\t\", clf.score(Xte,Yte))\n",
    "    init /= 10"
   ]
  },
  {
   "cell_type": "code",
   "execution_count": null,
   "metadata": {},
   "outputs": [],
   "source": [
    "plt.rcParams[\"figure.figsize\"] = (15.0,8.0)\n",
    "plt.semilogy(range(10), train_error, label=\"training\")\n",
    "plt.semilogy(range(10), test_error, label=\"test\")\n",
    "#plt.xticks(cval)\n",
    "plt.legend()\n",
    "plt.show()"
   ]
  },
  {
   "cell_type": "markdown",
   "metadata": {},
   "source": [
    "## Adding Polynomial Features"
   ]
  },
  {
   "cell_type": "code",
   "execution_count": null,
   "metadata": {},
   "outputs": [],
   "source": [
    "poly = PolynomialFeatures(2).fit(Xtr)\n",
    "XtrP = poly.transform(Xtr)\n",
    "\n",
    "#scaler = StandardScaler().fit(XtrP, Ytr)\n",
    "#XtrP = scaler.transform(XtrP)\n",
    "\n",
    "XteP = poly.transform(Xte)\n",
    "\n",
    "lrP = LogisticRegression(tol=1e-10, C=100, random_state=0, solver='lbfgs', multi_class='multinomial')\n",
    "clf = lrP.fit(XtrP,Ytr)\n",
    "\n",
    "print(\"training score:\\t\", clf.score(XtrP,Ytr))\n",
    "print(\"test score:\\t\", clf.score(XteP,Yte))"
   ]
  },
  {
   "cell_type": "markdown",
   "metadata": {},
   "source": [
    "## Visualizations"
   ]
  },
  {
   "cell_type": "code",
   "execution_count": 11,
   "metadata": {},
   "outputs": [],
   "source": [
    "model = LogisticRegression(solver='lbfgs', multi_class='multinomial', max_iter=100000)"
   ]
  },
  {
   "cell_type": "code",
   "execution_count": 12,
   "metadata": {},
   "outputs": [
    {
     "data": {
      "image/png": "[encoded data removed]",
      "text/plain": [
       "<Figure size 432x288 with 1 Axes>"
      ]
     },
     "metadata": {
      "needs_background": "light"
     },
     "output_type": "display_data"
    }
   ],
   "source": [
    "cm = ConfusionMatrix(model, classes=[0, 1])\n",
    "cm.fit(Xtr, Ytr)\n",
    "cm.score(Xte, Yte)\n",
    "cm.poof()"
   ]
  },
  {
   "cell_type": "code",
   "execution_count": 13,
   "metadata": {},
   "outputs": [
    {
     "data": {
      "image/png": "[encoded data removed]",
      "text/plain": [
       "<Figure size 432x288 with 2 Axes>"
      ]
     },
     "metadata": {
      "needs_background": "light"
     },
     "output_type": "display_data"
    }
   ],
   "source": [
    "visualizer = ClassificationReport(model, classes=['non-spam', 'spam'])\n",
    "\n",
    "visualizer.fit(Xtr, Ytr)\n",
    "visualizer.score(Xte, Yte)\n",
    "visualizer.poof()"
   ]
  },
  {
   "cell_type": "code",
   "execution_count": 14,
   "metadata": {},
   "outputs": [
    {
     "data": {
      "image/png": "[encoded data removed]",
      "text/plain": [
       "<Figure size 432x288 with 1 Axes>"
      ]
     },
     "metadata": {
      "needs_background": "light"
     },
     "output_type": "display_data"
    }
   ],
   "source": [
    "visualizer = ROCAUC(model, classes=['non-spam', 'spam'])\n",
    "visualizer.fit(Xtr, Ytr)\n",
    "visualizer.score(Xte, Yte)\n",
    "visualizer.poof()"
   ]
  },
  {
   "cell_type": "code",
   "execution_count": null,
   "metadata": {},
   "outputs": [],
   "source": []
  }
 ],
 "metadata": {
  "kernelspec": {
   "display_name": "Python 3",
   "language": "python",
   "name": "python3"
  },
  "language_info": {
   "codemirror_mode": {
    "name": "ipython",
    "version": 3
   },
   "file_extension": ".py",
   "mimetype": "text/x-python",
   "name": "python",
   "nbconvert_exporter": "python",
   "pygments_lexer": "ipython3",
   "version": "3.6.1"
  }
 },
 "nbformat": 4,
 "nbformat_minor": 2
}
