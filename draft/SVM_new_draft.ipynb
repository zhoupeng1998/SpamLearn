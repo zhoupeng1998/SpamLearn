{
 "cells": [
  {
   "cell_type": "code",
   "execution_count": 1,
   "metadata": {},
   "outputs": [],
   "source": [
    "import numpy as np\n",
    "import matplotlib.pyplot as plt # use matplotlib for plotting with inline plots %matplotlib inline\n",
    "import warnings\n",
    "warnings.filterwarnings('ignore') # for deprecated matplotlib functions\n",
    "from sklearn.linear_model import LogisticRegression\n",
    "from sklearn.preprocessing import StandardScaler\n",
    "from sklearn.model_selection import train_test_split\n",
    "from sklearn.svm import SVC"
   ]
  },
  {
   "cell_type": "code",
   "execution_count": 2,
   "metadata": {},
   "outputs": [],
   "source": [
    "spamdata = np.genfromtxt(\"newData.txt\",delimiter=\",\")"
   ]
  },
  {
   "cell_type": "code",
   "execution_count": 3,
   "metadata": {},
   "outputs": [],
   "source": [
    "X, Y = spamdata[:,0:7883], spamdata[:,-1]"
   ]
  },
  {
   "cell_type": "code",
   "execution_count": 4,
   "metadata": {},
   "outputs": [
    {
     "name": "stdout",
     "output_type": "stream",
     "text": [
      "(12452, 7883)\n",
      "(12452,)\n"
     ]
    }
   ],
   "source": [
    "print(X.shape)\n",
    "print(Y.shape)"
   ]
  },
  {
   "cell_type": "code",
   "execution_count": 5,
   "metadata": {},
   "outputs": [
    {
     "name": "stdout",
     "output_type": "stream",
     "text": [
      "Training score:\t 0.9685191133954385\n",
      "Test score:\t 0.9457115322839704\n",
      "Error rate:  0.054288467716029555\n"
     ]
    }
   ],
   "source": [
    "scaler = StandardScaler()\n",
    "X = scaler.fit_transform(X)\n",
    "\n",
    "Xtr, Xte, Ytr, Yte = train_test_split(X, Y, test_size = 0.25, shuffle = True)\n",
    "\n",
    "clf = SVC().fit(Xtr, Ytr)\n",
    "print(\"Training score:\\t\", clf.score(Xtr,Ytr))\n",
    "print(\"Test score:\\t\", clf.score(Xte,Yte))\n",
    "\n",
    "Yhat = clf.predict(Xte)\n",
    "err = 0\n",
    "for i in range(len(Xte)):\n",
    "    if Yhat[i] != Yte[i]:\n",
    "        err += 1\n",
    "print(\"Error rate: \", err/len(Xte))"
   ]
  },
  {
   "cell_type": "code",
   "execution_count": 6,
   "metadata": {},
   "outputs": [
    {
     "name": "stdout",
     "output_type": "stream",
     "text": [
      "Ham Messages:  2187\n",
      "Ham Prediction:  2350\n",
      "Spam Messages:  926\n",
      "Spam Prediction:  763\n"
     ]
    }
   ],
   "source": [
    "print(\"Ham Messages: \", len(np.where(Yte == 0)[0]))\n",
    "print(\"Ham Prediction: \", len(np.where(Yhat == 0)[0]))\n",
    "print(\"Spam Messages: \", len(np.where(Yte == 1)[0]))\n",
    "print(\"Spam Prediction: \", len(np.where(Yhat == 1)[0]))"
   ]
  },
  {
   "cell_type": "code",
   "execution_count": null,
   "metadata": {},
   "outputs": [],
   "source": []
  }
 ],
 "metadata": {
  "kernelspec": {
   "display_name": "Python 3",
   "language": "python",
   "name": "python3"
  },
  "language_info": {
   "codemirror_mode": {
    "name": "ipython",
    "version": 3
   },
   "file_extension": ".py",
   "mimetype": "text/x-python",
   "name": "python",
   "nbconvert_exporter": "python",
   "pygments_lexer": "ipython3",
   "version": "3.6.7"
  }
 },
 "nbformat": 4,
 "nbformat_minor": 2
}
