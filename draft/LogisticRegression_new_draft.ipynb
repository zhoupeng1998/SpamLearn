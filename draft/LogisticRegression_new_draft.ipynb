{
 "cells": [
  {
   "cell_type": "code",
   "execution_count": 11,
   "metadata": {},
   "outputs": [],
   "source": [
    "import numpy as np\n",
    "from sklearn.preprocessing import PolynomialFeatures, StandardScaler\n",
    "from sklearn.model_selection import train_test_split\n",
    "from sklearn.decomposition import PCA\n",
    "from sklearn.linear_model import LogisticRegression\n",
    "from sklearn.feature_selection import RFE, SelectFromModel\n",
    "from sklearn.metrics import confusion_matrix"
   ]
  },
  {
   "cell_type": "code",
   "execution_count": 2,
   "metadata": {},
   "outputs": [],
   "source": [
    "spamdata = np.genfromtxt(\"newData.txt\",delimiter=\",\")\n",
    "X, Y = spamdata[:,0:7883], spamdata[:,-1]"
   ]
  },
  {
   "cell_type": "markdown",
   "metadata": {},
   "source": [
    "## Feature Selection - SelectFromModel"
   ]
  },
  {
   "cell_type": "code",
   "execution_count": 5,
   "metadata": {},
   "outputs": [
    {
     "name": "stdout",
     "output_type": "stream",
     "text": [
      "features:\t (12452, 2304)\n",
      "training score:\t 0.9915098669114273\n",
      "test score:\t 0.985813704496788\n"
     ]
    }
   ],
   "source": [
    "logreg = LogisticRegression(random_state=0, solver='lbfgs', multi_class='multinomial', max_iter=10000).fit(X, Y)\n",
    "model = SelectFromModel(logreg, prefit=True)\n",
    "X_new = model.transform(X)\n",
    "Xtr, Xte, Ytr, Yte = train_test_split(X_new, Y, test_size=0.3, shuffle=True, random_state=1)\n",
    "\n",
    "clf = LogisticRegression(tol=1e-8, C=0.1, random_state=0, solver='lbfgs', multi_class='multinomial', max_iter=10000).fit(Xtr,Ytr)\n",
    "print(\"features:\\t\",X_new.shape)\n",
    "print(\"training score:\\t\", clf.score(Xtr,Ytr))\n",
    "print(\"test score:\\t\", clf.score(Xte,Yte))"
   ]
  },
  {
   "cell_type": "code",
   "execution_count": 8,
   "metadata": {},
   "outputs": [
    {
     "name": "stdout",
     "output_type": "stream",
     "text": [
      "Training score:\t 1.0\n",
      "Test score:\t 0.982653389013813\n",
      "Error rate:  0.017346610986186957\n"
     ]
    }
   ],
   "source": [
    "#scaler = StandardScaler()\n",
    "#X = scaler.fit_transform(X)\n",
    "\n",
    "Xtr, Xte, Ytr, Yte = train_test_split(X, Y, test_size = 0.25, shuffle = True)\n",
    "\n",
    "logreg = LogisticRegression(tol=1e-8, C=10.0, random_state=0, solver='lbfgs', multi_class='multinomial', max_iter=10000)\n",
    "clf = logreg.fit(Xtr,Ytr)\n",
    "\n",
    "print(\"Training score:\\t\", clf.score(Xtr,Ytr))\n",
    "print(\"Test score:\\t\", clf.score(Xte,Yte))\n",
    "\n",
    "Yhat = clf.predict(Xte)\n",
    "err = 0\n",
    "for i in range(len(Xte)):\n",
    "    if Yhat[i] != Yte[i]:\n",
    "        err += 1\n",
    "print(\"Error rate: \", err/len(Xte))"
   ]
  },
  {
   "cell_type": "code",
   "execution_count": 12,
   "metadata": {},
   "outputs": [
    {
     "name": "stdout",
     "output_type": "stream",
     "text": [
      "Ham Messages:  2223\n",
      "Ham Prediction:  2223\n",
      "Spam Messages:  890\n",
      "Spam Prediction:  890\n"
     ]
    },
    {
     "data": {
      "text/plain": [
       "array([[2196,   27],\n",
       "       [  27,  863]])"
      ]
     },
     "execution_count": 12,
     "metadata": {},
     "output_type": "execute_result"
    }
   ],
   "source": [
    "print(\"Ham Messages: \", len(np.where(Yte == 0)[0]))\n",
    "print(\"Ham Prediction: \", len(np.where(Yhat == 0)[0]))\n",
    "print(\"Spam Messages: \", len(np.where(Yte == 1)[0]))\n",
    "print(\"Spam Prediction: \", len(np.where(Yhat == 1)[0]))\n",
    "confusion_matrix(Yte, Yhat)"
   ]
  },
  {
   "cell_type": "code",
   "execution_count": 10,
   "metadata": {},
   "outputs": [
    {
     "data": {
      "image/png": "[encoded data removed]",
      "text/plain": [
       "<Figure size 432x288 with 1 Axes>"
      ]
     },
     "metadata": {
      "needs_background": "light"
     },
     "output_type": "display_data"
    }
   ],
   "source": [
    "from sklearn.decomposition import PCA\n",
    "import matplotlib.pyplot as plt\n",
    "%matplotlib inline\n",
    "\n",
    "pca = PCA(n_components=2)\n",
    "Xpca = pca.fit_transform(X)\n",
    "\n",
    "colors = ['b','g','r']\n",
    "\n",
    "for i,c in enumerate(np.unique(Y)):\n",
    "    mask=np.where(Y==c)[0] \n",
    "    plt.scatter(Xpca[mask,0],Xpca[mask,1],s=5,c=colors[i],alpha=0.75)\n",
    "plt.show()"
   ]
  },
  {
   "cell_type": "code",
   "execution_count": null,
   "metadata": {},
   "outputs": [],
   "source": []
  }
 ],
 "metadata": {
  "kernelspec": {
   "display_name": "Python 3",
   "language": "python",
   "name": "python3"
  },
  "language_info": {
   "codemirror_mode": {
    "name": "ipython",
    "version": 3
   },
   "file_extension": ".py",
   "mimetype": "text/x-python",
   "name": "python",
   "nbconvert_exporter": "python",
   "pygments_lexer": "ipython3",
   "version": "3.6.1"
  }
 },
 "nbformat": 4,
 "nbformat_minor": 2
}
